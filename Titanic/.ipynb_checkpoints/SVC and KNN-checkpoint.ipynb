{
 "cells": [
  {
   "cell_type": "code",
   "execution_count": 1,
   "metadata": {},
   "outputs": [
    {
     "name": "stderr",
     "output_type": "stream",
     "text": [
      "C:\\Anaconda3\\lib\\site-packages\\ipykernel_launcher.py:67: SettingWithCopyWarning: \n",
      "A value is trying to be set on a copy of a slice from a DataFrame\n",
      "\n",
      "See the caveats in the documentation: http://pandas.pydata.org/pandas-docs/stable/indexing.html#indexing-view-versus-copy\n",
      "C:\\Anaconda3\\lib\\site-packages\\ipykernel_launcher.py:71: SettingWithCopyWarning: \n",
      "A value is trying to be set on a copy of a slice from a DataFrame\n",
      "\n",
      "See the caveats in the documentation: http://pandas.pydata.org/pandas-docs/stable/indexing.html#indexing-view-versus-copy\n",
      "C:\\Anaconda3\\lib\\site-packages\\ipykernel_launcher.py:126: SettingWithCopyWarning: \n",
      "A value is trying to be set on a copy of a slice from a DataFrame.\n",
      "Try using .loc[row_indexer,col_indexer] = value instead\n",
      "\n",
      "See the caveats in the documentation: http://pandas.pydata.org/pandas-docs/stable/indexing.html#indexing-view-versus-copy\n",
      "C:\\Anaconda3\\lib\\site-packages\\ipykernel_launcher.py:151: SettingWithCopyWarning: \n",
      "A value is trying to be set on a copy of a slice from a DataFrame.\n",
      "Try using .loc[row_indexer,col_indexer] = value instead\n",
      "\n",
      "See the caveats in the documentation: http://pandas.pydata.org/pandas-docs/stable/indexing.html#indexing-view-versus-copy\n"
     ]
    },
    {
     "data": {
      "text/html": [
       "<div>\n",
       "<style scoped>\n",
       "    .dataframe tbody tr th:only-of-type {\n",
       "        vertical-align: middle;\n",
       "    }\n",
       "\n",
       "    .dataframe tbody tr th {\n",
       "        vertical-align: top;\n",
       "    }\n",
       "\n",
       "    .dataframe thead th {\n",
       "        text-align: right;\n",
       "    }\n",
       "</style>\n",
       "<table border=\"1\" class=\"dataframe\">\n",
       "  <thead>\n",
       "    <tr style=\"text-align: right;\">\n",
       "      <th></th>\n",
       "      <th>Survived</th>\n",
       "      <th>Pclass</th>\n",
       "      <th>Sex</th>\n",
       "      <th>Age</th>\n",
       "      <th>Embarked</th>\n",
       "      <th>FamilySize</th>\n",
       "      <th>Title</th>\n",
       "      <th>FareCategory</th>\n",
       "    </tr>\n",
       "  </thead>\n",
       "  <tbody>\n",
       "    <tr>\n",
       "      <th>0</th>\n",
       "      <td>0</td>\n",
       "      <td>3</td>\n",
       "      <td>0</td>\n",
       "      <td>3</td>\n",
       "      <td>2</td>\n",
       "      <td>1</td>\n",
       "      <td>0</td>\n",
       "      <td>0</td>\n",
       "    </tr>\n",
       "    <tr>\n",
       "      <th>1</th>\n",
       "      <td>1</td>\n",
       "      <td>1</td>\n",
       "      <td>1</td>\n",
       "      <td>3</td>\n",
       "      <td>0</td>\n",
       "      <td>1</td>\n",
       "      <td>2</td>\n",
       "      <td>3</td>\n",
       "    </tr>\n",
       "    <tr>\n",
       "      <th>2</th>\n",
       "      <td>1</td>\n",
       "      <td>3</td>\n",
       "      <td>1</td>\n",
       "      <td>3</td>\n",
       "      <td>2</td>\n",
       "      <td>0</td>\n",
       "      <td>1</td>\n",
       "      <td>1</td>\n",
       "    </tr>\n",
       "    <tr>\n",
       "      <th>3</th>\n",
       "      <td>1</td>\n",
       "      <td>1</td>\n",
       "      <td>1</td>\n",
       "      <td>3</td>\n",
       "      <td>2</td>\n",
       "      <td>1</td>\n",
       "      <td>2</td>\n",
       "      <td>3</td>\n",
       "    </tr>\n",
       "    <tr>\n",
       "      <th>4</th>\n",
       "      <td>0</td>\n",
       "      <td>3</td>\n",
       "      <td>0</td>\n",
       "      <td>3</td>\n",
       "      <td>2</td>\n",
       "      <td>0</td>\n",
       "      <td>0</td>\n",
       "      <td>1</td>\n",
       "    </tr>\n",
       "  </tbody>\n",
       "</table>\n",
       "</div>"
      ],
      "text/plain": [
       "   Survived  Pclass  Sex  Age  Embarked  FamilySize  Title  FareCategory\n",
       "0         0       3    0    3         2           1      0             0\n",
       "1         1       1    1    3         0           1      2             3\n",
       "2         1       3    1    3         2           0      1             1\n",
       "3         1       1    1    3         2           1      2             3\n",
       "4         0       3    0    3         2           0      0             1"
      ]
     },
     "execution_count": 1,
     "metadata": {},
     "output_type": "execute_result"
    }
   ],
   "source": [
    "import pandas as pd\n",
    "data = pd.read_csv('train.csv')\n",
    "test_data = pd.read_csv('test.csv')\n",
    "\n",
    "import seaborn as sns\n",
    "import matplotlib.pyplot as plt\n",
    "import numpy as np\n",
    "get_ipython().run_line_magic('matplotlib', 'inline')\n",
    "\n",
    "#Style\n",
    "sns.set_palette(\"deep\", 8)\n",
    "\n",
    "\n",
    "# Drop whats unecessary\n",
    "data = data.drop(columns=['Cabin', 'Ticket'])\n",
    "test_data = test_data.drop(columns=['Cabin', 'Ticket'])\n",
    "\n",
    "\n",
    "# ----------------------\n",
    "# Add feature FamilySize\n",
    "# ----------------------\n",
    "data['FamilySize'] = [x + y for x, y in zip(data['Parch'], data['SibSp'])]\n",
    "test_data['FamilySize'] = [x + y for x, y in zip(test_data['Parch'], test_data['SibSp'])]\n",
    "\n",
    "\n",
    "# Categorize\n",
    "def family_size_category(size):\n",
    "    if size >= 5: return 3\n",
    "    elif 3 <= size < 5: return 2\n",
    "    elif 1 <= size < 3: return 1\n",
    "    else: return 0\n",
    "\n",
    "data[\"FamilySize\"] = data['FamilySize'].map(family_size_category)\n",
    "test_data[\"FamilySize\"] = test_data['FamilySize'].map(family_size_category)\n",
    "\n",
    "\n",
    "# ---------------------\n",
    "# Convert Sex to binary\n",
    "# ---------------------\n",
    "data['Sex'] = data['Sex'].map({'female': 1, 'male': 0}).astype(int)\n",
    "test_data['Sex'] = test_data['Sex'].map({'female': 1, 'male': 0}).astype(int)\n",
    "\n",
    "\n",
    "# ------------------\n",
    "# Deal with Embarked\n",
    "# ------------------\n",
    "# Fill Nan - Embarked\n",
    "# Find most frequent category in column (mode()[0]) an fill NaN with it\n",
    "embarked_freq = data['Embarked'].dropna().mode()[0]\n",
    "data['Embarked'] = data['Embarked'].fillna(embarked_freq)\n",
    "\n",
    "# Convert to numeric\n",
    "data['Embarked'] = data['Embarked'].map({'C': 0, 'Q': 1, 'S': 2}).astype(int)\n",
    "test_data['Embarked'] = test_data['Embarked'].map({'C': 0, 'Q': 1, 'S': 2}).astype(int)\n",
    "\n",
    "\n",
    "# --------------------\n",
    "# Get titles from Name\n",
    "# --------------------\n",
    "# Use .extract(REGEX) to extract titles only\n",
    "data['Title'] = data['Name'].str.extract(' ([A-Za-z]+)\\.', expand=False)\n",
    "test_data['Title'] = test_data['Name'].str.extract(' ([A-Za-z]+)\\.', expand=False)\n",
    "\n",
    "\n",
    "for i, row in data.iterrows():\n",
    "    if (row['Title'] not in [\"Mr\", \"Miss\", \"Mrs\", \"Master\"]):    \n",
    "        data['Title'][i] = \"Other\"\n",
    "\n",
    "for i, row in test_data.iterrows():\n",
    "    if (row['Title'] not in [\"Mr\", \"Miss\", \"Mrs\", \"Master\"]):    \n",
    "        test_data['Title'][i] = \"Other\"\n",
    "\n",
    "# Convert to int \n",
    "data['Title'] = data['Title'].map({'Mr': 0, 'Miss': 1, 'Mrs': 2, 'Master': 3, 'Other': 4}).astype(int)\n",
    "test_data['Title'] = test_data['Title'].map({'Mr': 0, 'Miss': 1, 'Mrs': 2, 'Master': 3, 'Other': 4}).astype(int)\n",
    "\n",
    "\n",
    "# ---------------\n",
    "# Fare Categories\n",
    "# ---------------\n",
    "# Fill missing fare on test data\n",
    "test_data['Fare'] = test_data['Fare'].fillna(test_data['Fare'].mean())\n",
    "\n",
    "# Apply categories with labels\n",
    "data['FareCategory'] = pd.qcut(data['Fare'], 4, labels=[0,1,2,3]).astype(int)\n",
    "test_data['FareCategory'] = pd.qcut(test_data['Fare'], 4, labels=[0,1,2,3]).astype(int)\n",
    "\n",
    "\n",
    "# --------\n",
    "# Clean up\n",
    "# --------\n",
    "# Save PassengerId for later\n",
    "passenger_id = test_data['PassengerId']\n",
    "\n",
    "# Drop whats unecessary\n",
    "data = data.drop(columns=['SibSp', 'Parch', 'PassengerId', 'Fare', 'Name'])\n",
    "test_data = test_data.drop(columns=['SibSp', 'Parch', 'PassengerId', 'Fare', 'Name'])\n",
    "\n",
    "\n",
    "# --------------------------------------------------------\n",
    "# Deal with Age NaN and divide into categories (Train set)\n",
    "# --------------------------------------------------------\n",
    "#Replace NaN with mean for Age\n",
    "from sklearn.model_selection import train_test_split\n",
    "from sklearn.linear_model import LinearRegression\n",
    "from sklearn import metrics\n",
    "\n",
    "# Select training data\n",
    "XClean = data.dropna(axis=0, how='any')\n",
    "X = XClean[['Title', 'Pclass', 'FareCategory', 'Embarked']]\n",
    "y = data[['Age']].dropna()\n",
    "\n",
    "# Select test data (rows missing Age) \n",
    "XTestClean = data.loc[pd.isnull(data[['Age']]).any(axis=1)]\n",
    "XTest = XTestClean[['Title', 'Pclass', 'FareCategory', 'Embarked']]\n",
    "yToFill = XTestClean[['Age']]\n",
    "\n",
    "# Fit and predict\n",
    "linreg = LinearRegression()\n",
    "linreg.fit(X, y)\n",
    "\n",
    "# predict\n",
    "yPred = linreg.predict(XTest).flatten().tolist()\n",
    "\n",
    "# Replace NaN with predicted Age values\n",
    "yToFill['Age'] = yPred\n",
    "data['Age'] = data.combine_first(yToFill)\n",
    "\n",
    "# Categorize\n",
    "def age_category(age):\n",
    "    if age >= 60: return 4\n",
    "    elif 21 <= age < 60: return 3\n",
    "    elif 12 <= age < 21: return 2\n",
    "    elif 3 <= age < 12: return 1\n",
    "    else: return 0\n",
    "    \n",
    "data[\"Age\"] = data['Age'].map(age_category)\n",
    "\n",
    "# -------------------------------------------------------\n",
    "# Deal with Age NaN and divide into categories (Test set)\n",
    "# -------------------------------------------------------\n",
    "# Select data (rows missing Age) \n",
    "XTestClean = test_data.loc[pd.isnull(test_data[['Age']]).any(axis=1)]\n",
    "XTest = XTestClean[['Title', 'Pclass', 'FareCategory', 'Embarked']]\n",
    "test_yToFill = XTestClean[['Age']]\n",
    "\n",
    "# predict\n",
    "yPred = linreg.predict(XTest).flatten().tolist()\n",
    "\n",
    "# Replace NaN with predicted Age values\n",
    "test_yToFill['Age'] = yPred\n",
    "test_data['Age'] = test_data.combine_first(test_yToFill)\n",
    "\n",
    "# Categorize\n",
    "test_data[\"Age\"] = test_data['Age'].map(age_category)\n",
    "\n",
    "# ----------------------\n",
    "data.head()"
   ]
  },
  {
   "cell_type": "code",
   "execution_count": 2,
   "metadata": {},
   "outputs": [
    {
     "data": {
      "text/plain": [
       "<matplotlib.axes._subplots.AxesSubplot at 0x1581eff2748>"
      ]
     },
     "execution_count": 2,
     "metadata": {},
     "output_type": "execute_result"
    },
    {
     "data": {
      "image/png": "[encoded data removed]",
      "text/plain": [
       "<matplotlib.figure.Figure at 0x1580b0f6a20>"
      ]
     },
     "metadata": {},
     "output_type": "display_data"
    }
   ],
   "source": [
    "#Create figure & adjust\n",
    "fig, (ax1, ax2) = plt.subplots(2, 3, gridspec_kw={'height_ratios':[1,1]}, figsize=(16,7), sharey=True)\n",
    "fig.subplots_adjust(wspace=0.1)\n",
    "\n",
    "#Plot\n",
    "sns.barplot(x=\"Pclass\", y=\"Survived\", data=data, ax=ax1[0])\n",
    "sns.barplot(x=\"Sex\", y=\"Survived\", data=data, ax=ax1[1])\n",
    "sns.barplot(x=\"FamilySize\", y=\"Survived\", data=data, ax=ax1[2])\n",
    "sns.barplot(x=\"Embarked\", y=\"Survived\", data=data, ax=ax2[0])\n",
    "sns.barplot(x=\"Age\", y=\"Survived\", data=data, ax=ax2[1])\n",
    "sns.barplot(x=\"FareCategory\", y=\"Survived\", data=data, ax=ax2[2])"
   ]
  },
  {
   "cell_type": "code",
   "execution_count": 3,
   "metadata": {},
   "outputs": [],
   "source": [
    "# Index data\n",
    "# ----------\n",
    "X = data[['Sex', 'Pclass', 'FamilySize', 'FareCategory', 'Embarked', 'Title', 'Age']]\n",
    "y = data['Survived']\n",
    "X_test = test_data[['Sex', 'Pclass', 'FamilySize', 'FareCategory', 'Embarked', 'Title', 'Age']]\n",
    "\n",
    "# Create dummy variables for categorical variables and delete one to avoid trap\n",
    "# -----------------------------------------------------------------------------\n",
    "from sklearn.preprocessing import OneHotEncoder\n",
    "onehotencoder = OneHotEncoder()\n",
    "X_d = pd.get_dummies(X, columns=['Embarked', 'Title'], drop_first=True)\n",
    "X_test_d = pd.get_dummies(X_test, columns=['Embarked', 'Title'], drop_first=True)"
   ]
  },
  {
   "cell_type": "code",
   "execution_count": 4,
   "metadata": {},
   "outputs": [
    {
     "name": "stdout",
     "output_type": "stream",
     "text": [
      "Optimal number of features : 6.733333333333333\n",
      "Best features : [('Embarked_1', 3), ('Title_3', 4), ('Title_4', 4), ('Embarked_2', 5), ('Title_2', 7), ('Title_1', 8), ('FamilySize', 11), ('Age', 14), ('Sex', 15), ('Pclass', 15), ('FareCategory', 15)]\n"
     ]
    }
   ],
   "source": [
    "# Feature Selection\n",
    "# -----------------\n",
    "from sklearn.ensemble import RandomForestClassifier\n",
    "from sklearn.feature_selection import RFECV\n",
    "from collections import Counter\n",
    "import operator\n",
    "\n",
    "number = []\n",
    "features = []\n",
    "for x in range(15):\n",
    "    clf_rf_4 = RandomForestClassifier() \n",
    "    rfecv = RFECV(estimator=clf_rf_4, step=1, cv=10,scoring='accuracy')\n",
    "    rfecv = rfecv.fit(X_d, y)\n",
    "    number.append(rfecv.n_features_)\n",
    "    features.append(list(X_d.columns[rfecv.support_]))\n",
    "\n",
    "print('Optimal number of features :', np.mean(number))\n",
    "\n",
    "best_features = dict(Counter([item for sublist in features for item in sublist]))\n",
    "print('Best features :', sorted(best_features.items(), key=operator.itemgetter(1)))"
   ]
  },
  {
   "cell_type": "code",
   "execution_count": 5,
   "metadata": {},
   "outputs": [],
   "source": [
    "# Feature Selection\n",
    "# -----------------\n",
    "X_dc = X_d[['Sex', 'Pclass', 'FamilySize', 'FareCategory', 'Title_1', 'Title_2', 'Age', 'Embarked_2']]\n",
    "X_test_dc = X_test_d[['Sex', 'Pclass', 'FamilySize', 'FareCategory', 'Title_1', 'Title_2', 'Age', 'Embarked_2']]"
   ]
  },
  {
   "cell_type": "code",
   "execution_count": 6,
   "metadata": {},
   "outputs": [],
   "source": [
    "# Feature Scaling \n",
    "# ---------------\n",
    "from sklearn.preprocessing import StandardScaler\n",
    "sc_X = StandardScaler()\n",
    "X_dcs = sc_X.fit_transform(X_dc)\n",
    "X_test_dcs = sc_X.transform(X_test_dc)"
   ]
  },
  {
   "cell_type": "code",
   "execution_count": 56,
   "metadata": {},
   "outputs": [
    {
     "name": "stdout",
     "output_type": "stream",
     "text": [
      "0.8627040413886977\n",
      "{'C': 1.1200000000000006, 'gamma': 0.17}\n"
     ]
    }
   ],
   "source": [
    "from sklearn.grid_search import GridSearchCV\n",
    "from sklearn.svm import SVC\n",
    "\n",
    "param_grid = {'C': np.arange(0.5,1.5, 0.01).tolist(),\n",
    "              'gamma': np.arange( 0.0, 0.5, 0.01 ).tolist()}\n",
    "\n",
    "grid_search = GridSearchCV(estimator=SVC(), param_grid=param_grid, scoring='roc_auc', cv=5, n_jobs=6)\n",
    "grid_search = grid_search.fit(X_dcs, y)\n",
    "\n",
    "print(grid_search.best_score_)\n",
    "print(grid_search.best_params_)"
   ]
  },
  {
   "cell_type": "code",
   "execution_count": 58,
   "metadata": {},
   "outputs": [
    {
     "data": {
      "text/plain": [
       "0.8238449570836378"
      ]
     },
     "execution_count": 58,
     "metadata": {},
     "output_type": "execute_result"
    }
   ],
   "source": [
    "from sklearn.model_selection import cross_val_score\n",
    "cvs = cross_val_score(SVC(C=1.12, gamma=0.17), X_dcs, y, cv=5, scoring='accuracy')\n",
    "cvs.mean()"
   ]
  },
  {
   "cell_type": "code",
   "execution_count": 69,
   "metadata": {},
   "outputs": [],
   "source": [
    "# Fit and Predict final model\n",
    "svc = SVC(C=1.12, gamma=0.17)\n",
    "svc.fit(X_d, y)\n",
    "y_pred = svc.predict(X_test_d)"
   ]
  },
  {
   "cell_type": "code",
   "execution_count": 70,
   "metadata": {},
   "outputs": [
    {
     "name": "stdout",
     "output_type": "stream",
     "text": [
      "[0 1 0 0 1 0 1 0 1 0 0 0 1 0 1 1 0 0 0 1 0 1 1 0 1 0 1 0 0 0 0 0 0 1 0 0 1\n",
      " 1 0 0 0 0 0 1 1 0 0 0 1 1 0 0 1 1 0 0 0 0 0 1 0 0 0 1 1 1 1 0 0 1 1 0 1 0\n",
      " 1 0 0 1 0 1 1 0 0 0 0 0 1 1 1 1 1 0 1 0 0 0 1 0 1 0 1 0 0 0 1 0 0 0 0 0 0\n",
      " 1 1 1 1 0 0 1 0 1 1 0 1 0 0 1 0 1 0 0 0 0 1 0 0 0 0 0 1 0 0 1 0 0 0 0 0 0\n",
      " 0 0 1 0 0 1 0 0 1 1 0 1 1 1 1 0 0 1 0 0 1 1 0 0 0 0 0 1 1 0 1 1 0 0 1 0 1\n",
      " 0 1 0 0 0 0 0 1 0 1 0 1 1 0 1 1 1 0 1 0 0 1 0 1 0 0 0 0 1 0 0 1 0 1 0 1 0\n",
      " 1 0 1 1 0 1 0 0 0 1 0 0 0 0 0 0 1 1 1 1 0 0 0 0 1 0 1 1 1 0 0 0 0 0 0 0 1\n",
      " 0 0 0 1 1 0 0 0 0 1 0 0 0 1 1 0 1 0 0 0 0 1 1 1 1 1 0 0 0 0 0 0 1 0 0 0 0\n",
      " 1 0 0 0 0 0 0 0 1 1 0 1 0 1 0 0 0 1 1 1 0 0 0 0 0 0 0 0 1 0 1 0 0 0 1 0 0\n",
      " 1 0 0 0 0 0 0 0 0 0 1 1 1 0 1 0 1 1 0 0 0 1 0 1 0 0 1 0 1 1 0 1 0 0 1 1 0\n",
      " 0 1 0 0 1 1 0 0 0 0 0 0 1 1 0 1 0 0 0 1 0 1 1 0 0 1 0 1 0 0 1 0 1 0 0 0 0\n",
      " 0 1 1 1 1 1 0 1 0 0 1]\n"
     ]
    }
   ],
   "source": [
    "print(y_pred)"
   ]
  },
  {
   "cell_type": "code",
   "execution_count": 71,
   "metadata": {},
   "outputs": [],
   "source": [
    "# Generate Submission File \n",
    "StackingSubmission = pd.DataFrame({ 'PassengerId': passenger_id,\n",
    "                                    'Survived': y_pred })\n",
    "StackingSubmission.to_csv(\"Submission.csv\", index=False)"
   ]
  }
 ],
 "metadata": {
  "kernelspec": {
   "display_name": "Python 3",
   "language": "python",
   "name": "python3"
  },
  "language_info": {
   "codemirror_mode": {
    "name": "ipython",
    "version": 3
   },
   "file_extension": ".py",
   "mimetype": "text/x-python",
   "name": "python",
   "nbconvert_exporter": "python",
   "pygments_lexer": "ipython3",
   "version": "3.6.4"
  }
 },
 "nbformat": 4,
 "nbformat_minor": 2
}
